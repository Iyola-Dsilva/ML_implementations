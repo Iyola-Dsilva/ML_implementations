{
  "nbformat": 4,
  "nbformat_minor": 0,
  "metadata": {
    "colab": {
      "provenance": []
    },
    "kernelspec": {
      "name": "python3",
      "display_name": "Python 3"
    },
    "language_info": {
      "name": "python"
    }
  },
  "cells": [
    {
      "cell_type": "code",
      "execution_count": 296,
      "metadata": {
        "id": "42fkcoNwmnmR"
      },
      "outputs": [],
      "source": [
        "#import the libraries/models\n",
        "from sklearn import datasets\n",
        "from sklearn.model_selection import train_test_split\n",
        "from sklearn.linear_model import Perceptron\n",
        "from sklearn.metrics import accuracy_score\n"
      ]
    },
    {
      "cell_type": "code",
      "source": [
        "#load the data and set X and y variables\n",
        "#Link to dataset: https://archive.ics.uci.edu/ml/datasets/iris\n"
        "iris_dataset = datasets.load_iris()\n",
        "X = iris_dataset.data[:, [2,3]]\n",
        "y = iris_dataset.target\n",
        "#will be using the petal length and width to predict the type of iris flower class"
      ],
      "metadata": {
        "id": "1YhxiVmXpX6N"
      },
      "execution_count": 297,
      "outputs": []
    },
    {
      "cell_type": "code",
      "source": [
        "#split training and testing data 70:30\n",
        "X_train, X_test, y_train, y_test = train_test_split(X, y, test_size=0.3)\n",
        "#no. of split instances\n",
        "print(X_train.shape)\n",
        "print(X_test.shape)\n",
        "print(y_train.shape)\n",
        "print(y_test.shape)"
      ],
      "metadata": {
        "colab": {
          "base_uri": "https://localhost:8080/"
        },
        "id": "dncfCWbGss0-",
        "outputId": "4317fd35-1f09-4254-d23d-6167a1cd4bc4"
      },
      "execution_count": 298,
      "outputs": [
        {
          "output_type": "stream",
          "name": "stdout",
          "text": [
            "(105, 2)\n",
            "(45, 2)\n",
            "(105,)\n",
            "(45,)\n"
          ]
        }
      ]
    },
    {
      "cell_type": "code",
      "source": [
        "#build the model by altering hyperparameters\n",
        "perceptron_model = Perceptron(max_iter=10, tol=1e-3, eta0=0.01, fit_intercept=True, random_state=0, verbose=True)"
      ],
      "metadata": {
        "id": "emI-8RwHs6ky"
      },
      "execution_count": 311,
      "outputs": []
    },
    {
      "cell_type": "code",
      "source": [
        "#train\n",
        "perceptron_model.fit(X_train, y_train)"
      ],
      "metadata": {
        "colab": {
          "base_uri": "https://localhost:8080/",
          "height": 1000
        },
        "id": "tRJ11aK9tA7A",
        "outputId": "622d6d13-fb36-48e7-9f08-06aafe7b431f"
      },
      "execution_count": 312,
      "outputs": [
        {
          "output_type": "stream",
          "name": "stdout",
          "text": [
            "-- Epoch 1\n",
            "Norm: 0.02, NNZs: 2, Bias: 0.040000, T: 105, Avg. loss: 0.002478\n",
            "Total training time: 0.01 seconds.\n",
            "-- Epoch 2\n",
            "Norm: 0.02, NNZs: 2, Bias: 0.040000, T: 210, Avg. loss: 0.000000\n",
            "Total training time: 0.01 seconds.\n",
            "-- Epoch 3\n",
            "Norm: 0.02, NNZs: 2, Bias: 0.040000, T: 315, Avg. loss: 0.000000\n",
            "Total training time: 0.01 seconds.\n",
            "-- Epoch 4\n",
            "Norm: 0.02, NNZs: 2, Bias: 0.040000, T: 420, Avg. loss: 0.000000\n",
            "Total training time: 0.01 seconds.\n",
            "-- Epoch 5\n",
            "Norm: 0.02, NNZs: 2, Bias: 0.040000, T: 525, Avg. loss: 0.000000\n",
            "Total training time: 0.01 seconds.\n",
            "-- Epoch 6\n",
            "Norm: 0.02, NNZs: 2, Bias: 0.040000, T: 630, Avg. loss: 0.000000\n",
            "Total training time: 0.01 seconds.\n",
            "-- Epoch 7\n",
            "Norm: 0.02, NNZs: 2, Bias: 0.040000, T: 735, Avg. loss: 0.000000\n",
            "Total training time: 0.01 seconds.\n",
            "Convergence after 7 epochs took 0.01 seconds\n",
            "-- Epoch 1\n",
            "Norm: 0.03, NNZs: 2, Bias: -0.040000, T: 105, Avg. loss: 0.051687\n",
            "Total training time: 0.00 seconds.\n",
            "-- Epoch 2\n",
            "Norm: 0.07, NNZs: 2, Bias: -0.050000, T: 210, Avg. loss: 0.047250\n",
            "Total training time: 0.00 seconds.\n",
            "-- Epoch 3\n",
            "Norm: 0.06, NNZs: 2, Bias: -0.060000, T: 315, Avg. loss: 0.043780\n",
            "Total training time: 0.00 seconds.\n",
            "-- Epoch 4\n",
            "Norm: 0.09, NNZs: 2, Bias: -0.070000, T: 420, Avg. loss: 0.039490\n",
            "Total training time: 0.00 seconds.\n",
            "-- Epoch 5\n",
            "Norm: 0.12, NNZs: 2, Bias: -0.060000, T: 525, Avg. loss: 0.044471\n",
            "Total training time: 0.00 seconds.\n",
            "-- Epoch 6\n",
            "Norm: 0.13, NNZs: 2, Bias: -0.070000, T: 630, Avg. loss: 0.044314\n",
            "Total training time: 0.00 seconds.\n",
            "-- Epoch 7\n",
            "Norm: 0.14, NNZs: 2, Bias: -0.090000, T: 735, Avg. loss: 0.048201\n",
            "Total training time: 0.00 seconds.\n",
            "-- Epoch 8\n",
            "Norm: 0.15, NNZs: 2, Bias: -0.100000, T: 840, Avg. loss: 0.040267\n",
            "Total training time: 0.00 seconds.\n",
            "-- Epoch 9\n",
            "Norm: 0.16, NNZs: 2, Bias: -0.100000, T: 945, Avg. loss: 0.047957\n",
            "Total training time: 0.00 seconds.\n",
            "Convergence after 9 epochs took 0.00 seconds\n",
            "-- Epoch 1\n",
            "Norm: 0.07, NNZs: 2, Bias: -0.090000, T: 105, Avg. loss: 0.041870\n",
            "Total training time: 0.00 seconds.\n",
            "-- Epoch 2\n",
            "Norm: 0.08, NNZs: 1, Bias: -0.100000, T: 210, Avg. loss: 0.022058\n",
            "Total training time: 0.00 seconds.\n",
            "-- Epoch 3\n",
            "Norm: 0.13, NNZs: 2, Bias: -0.140000, T: 315, Avg. loss: 0.028183\n",
            "Total training time: 0.00 seconds.\n",
            "-- Epoch 4\n",
            "Norm: 0.13, NNZs: 2, Bias: -0.190000, T: 420, Avg. loss: 0.024062\n",
            "Total training time: 0.00 seconds.\n",
            "-- Epoch 5\n",
            "Norm: 0.18, NNZs: 2, Bias: -0.210000, T: 525, Avg. loss: 0.022923\n",
            "Total training time: 0.00 seconds.\n",
            "-- Epoch 6\n",
            "Norm: 0.17, NNZs: 2, Bias: -0.250000, T: 630, Avg. loss: 0.021173\n",
            "Total training time: 0.00 seconds.\n",
            "-- Epoch 7\n",
            "Norm: 0.19, NNZs: 2, Bias: -0.260000, T: 735, Avg. loss: 0.023727\n",
            "Total training time: 0.00 seconds.\n",
            "Convergence after 7 epochs took 0.00 seconds\n"
          ]
        },
        {
          "output_type": "execute_result",
          "data": {
            "text/plain": [
              "Perceptron(eta0=0.01, max_iter=10, verbose=True)"
            ],
            "text/html": [
              "<style>#sk-container-id-72 {color: black;background-color: white;}#sk-container-id-72 pre{padding: 0;}#sk-container-id-72 div.sk-toggleable {background-color: white;}#sk-container-id-72 label.sk-toggleable__label {cursor: pointer;display: block;width: 100%;margin-bottom: 0;padding: 0.3em;box-sizing: border-box;text-align: center;}#sk-container-id-72 label.sk-toggleable__label-arrow:before {content: \"▸\";float: left;margin-right: 0.25em;color: #696969;}#sk-container-id-72 label.sk-toggleable__label-arrow:hover:before {color: black;}#sk-container-id-72 div.sk-estimator:hover label.sk-toggleable__label-arrow:before {color: black;}#sk-container-id-72 div.sk-toggleable__content {max-height: 0;max-width: 0;overflow: hidden;text-align: left;background-color: #f0f8ff;}#sk-container-id-72 div.sk-toggleable__content pre {margin: 0.2em;color: black;border-radius: 0.25em;background-color: #f0f8ff;}#sk-container-id-72 input.sk-toggleable__control:checked~div.sk-toggleable__content {max-height: 200px;max-width: 100%;overflow: auto;}#sk-container-id-72 input.sk-toggleable__control:checked~label.sk-toggleable__label-arrow:before {content: \"▾\";}#sk-container-id-72 div.sk-estimator input.sk-toggleable__control:checked~label.sk-toggleable__label {background-color: #d4ebff;}#sk-container-id-72 div.sk-label input.sk-toggleable__control:checked~label.sk-toggleable__label {background-color: #d4ebff;}#sk-container-id-72 input.sk-hidden--visually {border: 0;clip: rect(1px 1px 1px 1px);clip: rect(1px, 1px, 1px, 1px);height: 1px;margin: -1px;overflow: hidden;padding: 0;position: absolute;width: 1px;}#sk-container-id-72 div.sk-estimator {font-family: monospace;background-color: #f0f8ff;border: 1px dotted black;border-radius: 0.25em;box-sizing: border-box;margin-bottom: 0.5em;}#sk-container-id-72 div.sk-estimator:hover {background-color: #d4ebff;}#sk-container-id-72 div.sk-parallel-item::after {content: \"\";width: 100%;border-bottom: 1px solid gray;flex-grow: 1;}#sk-container-id-72 div.sk-label:hover label.sk-toggleable__label {background-color: #d4ebff;}#sk-container-id-72 div.sk-serial::before {content: \"\";position: absolute;border-left: 1px solid gray;box-sizing: border-box;top: 0;bottom: 0;left: 50%;z-index: 0;}#sk-container-id-72 div.sk-serial {display: flex;flex-direction: column;align-items: center;background-color: white;padding-right: 0.2em;padding-left: 0.2em;position: relative;}#sk-container-id-72 div.sk-item {position: relative;z-index: 1;}#sk-container-id-72 div.sk-parallel {display: flex;align-items: stretch;justify-content: center;background-color: white;position: relative;}#sk-container-id-72 div.sk-item::before, #sk-container-id-72 div.sk-parallel-item::before {content: \"\";position: absolute;border-left: 1px solid gray;box-sizing: border-box;top: 0;bottom: 0;left: 50%;z-index: -1;}#sk-container-id-72 div.sk-parallel-item {display: flex;flex-direction: column;z-index: 1;position: relative;background-color: white;}#sk-container-id-72 div.sk-parallel-item:first-child::after {align-self: flex-end;width: 50%;}#sk-container-id-72 div.sk-parallel-item:last-child::after {align-self: flex-start;width: 50%;}#sk-container-id-72 div.sk-parallel-item:only-child::after {width: 0;}#sk-container-id-72 div.sk-dashed-wrapped {border: 1px dashed gray;margin: 0 0.4em 0.5em 0.4em;box-sizing: border-box;padding-bottom: 0.4em;background-color: white;}#sk-container-id-72 div.sk-label label {font-family: monospace;font-weight: bold;display: inline-block;line-height: 1.2em;}#sk-container-id-72 div.sk-label-container {text-align: center;}#sk-container-id-72 div.sk-container {/* jupyter's `normalize.less` sets `[hidden] { display: none; }` but bootstrap.min.css set `[hidden] { display: none !important; }` so we also need the `!important` here to be able to override the default hidden behavior on the sphinx rendered scikit-learn.org. See: https://github.com/scikit-learn/scikit-learn/issues/21755 */display: inline-block !important;position: relative;}#sk-container-id-72 div.sk-text-repr-fallback {display: none;}</style><div id=\"sk-container-id-72\" class=\"sk-top-container\"><div class=\"sk-text-repr-fallback\"><pre>Perceptron(eta0=0.01, max_iter=10, verbose=True)</pre><b>In a Jupyter environment, please rerun this cell to show the HTML representation or trust the notebook. <br />On GitHub, the HTML representation is unable to render, please try loading this page with nbviewer.org.</b></div><div class=\"sk-container\" hidden><div class=\"sk-item\"><div class=\"sk-estimator sk-toggleable\"><input class=\"sk-toggleable__control sk-hidden--visually\" id=\"sk-estimator-id-72\" type=\"checkbox\" checked><label for=\"sk-estimator-id-72\" class=\"sk-toggleable__label sk-toggleable__label-arrow\">Perceptron</label><div class=\"sk-toggleable__content\"><pre>Perceptron(eta0=0.01, max_iter=10, verbose=True)</pre></div></div></div></div></div>"
            ]
          },
          "metadata": {},
          "execution_count": 312
        }
      ]
    },
    {
      "cell_type": "code",
      "source": [
        "#test and plot\n",
        "import matplotlib.pyplot as plt\n",
        "y_predict = perceptron_model.predict(X_test)\n",
        "print(y_predict) #predicted output\n",
        "print(y_test) #actual output\n",
        "plt.scatter(y_test,y_predict)\n",
        "plt.xlabel('Actual class')\n",
        "plt.ylabel('Predicted class')\n",
        "plt.title('Actual vs Predicted class')\n",
        "plt.show()"
      ],
      "metadata": {
        "colab": {
          "base_uri": "https://localhost:8080/",
          "height": 541
        },
        "id": "zTjsd7wGtIeD",
        "outputId": "2e7aa807-5892-415a-cec9-a3f1c6d36abd"
      },
      "execution_count": 313,
      "outputs": [
        {
          "output_type": "stream",
          "name": "stdout",
          "text": [
            "[2 0 2 1 1 2 2 1 0 2 1 2 1 0 0 0 2 2 2 0 2 2 0 1 1 2 1 0 2 0 1 0 2 0 0 2 2\n",
            " 1 2 0 1 2 1 1 2]\n",
            "[2 0 2 1 1 2 2 1 0 2 1 1 0 0 0 0 2 2 2 0 2 2 0 1 1 2 2 0 2 0 1 0 2 0 0 2 2\n",
            " 2 2 0 2 2 1 1 1]\n"
          ]
        },
        {
          "output_type": "display_data",
          "data": {
            "text/plain": [
              "<Figure size 640x480 with 1 Axes>"
            ],
            "image/png": "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\n"
          },
          "metadata": {}
        }
      ]
    },
    {
      "cell_type": "code",
      "source": [
        "#evaluate accuracy\n",
        "accuracy = accuracy_score(y_test, y_predict)\n",
        "accuracy = accuracy * 100\n",
        "\n",
        "print(\"\\nAccuracy of model: \" + str(round(accuracy,2)) + \"%\\n\")"
      ],
      "metadata": {
        "colab": {
          "base_uri": "https://localhost:8080/"
        },
        "id": "B3BqZvHatMza",
        "outputId": "3a48d6c0-602a-4608-bf46-f6bd281fbd31"
      },
      "execution_count": 314,
      "outputs": [
        {
          "output_type": "stream",
          "name": "stdout",
          "text": [
            "\n",
            "Accuracy of model: 86.67%\n",
            "\n"
          ]
        }
      ]
    }
  ]
}
