{
  "nbformat": 4,
  "nbformat_minor": 0,
  "metadata": {
    "colab": {
      "provenance": []
    },
    "kernelspec": {
      "name": "python3",
      "display_name": "Python 3"
    },
    "language_info": {
      "name": "python"
    }
  },
  "cells": [
    {
      "cell_type": "code",
      "execution_count": 14,
      "metadata": {
        "id": "VUpkNwrJKYCn"
      },
      "outputs": [],
      "source": [
        "#loading the libraries\n",
        "from sklearn import datasets                          # import cancer dataset from sklearn\n",
        "from sklearn import svm\n",
        "from sklearn.metrics import accuracy_score\n",
        "from sklearn.model_selection import train_test_split"
      ]
    },
    {
      "cell_type": "code",
      "source": [
        "# This program will classify a tumor as malignant or benign using the supervised  ML algorithm, Support Vector Machines (SVM).\n",
        "cancer_data = datasets.load_breast_cancer()\n",
        "\n",
        "print(\"Features: \\n\", cancer_data.feature_names, \"\\n\")\n",
        "print(\"Targets: \\n\", cancer_data.target_names)\n",
        "\n",
        "x = cancer_data.data\n",
        "y = cancer_data.target"
      ],
      "metadata": {
        "colab": {
          "base_uri": "https://localhost:8080/"
        },
        "id": "UDIhvBrgP0mN",
        "outputId": "4f1e61db-af32-4cc6-f954-22b4cfbf42bf"
      },
      "execution_count": 15,
      "outputs": [
        {
          "output_type": "stream",
          "name": "stdout",
          "text": [
            "Features: \n",
            " ['mean radius' 'mean texture' 'mean perimeter' 'mean area'\n",
            " 'mean smoothness' 'mean compactness' 'mean concavity'\n",
            " 'mean concave points' 'mean symmetry' 'mean fractal dimension'\n",
            " 'radius error' 'texture error' 'perimeter error' 'area error'\n",
            " 'smoothness error' 'compactness error' 'concavity error'\n",
            " 'concave points error' 'symmetry error' 'fractal dimension error'\n",
            " 'worst radius' 'worst texture' 'worst perimeter' 'worst area'\n",
            " 'worst smoothness' 'worst compactness' 'worst concavity'\n",
            " 'worst concave points' 'worst symmetry' 'worst fractal dimension'] \n",
            "\n",
            "Targets: \n",
            " ['malignant' 'benign']\n"
          ]
        }
      ]
    },
    {
      "cell_type": "code",
      "source": [
        "#split the data\n",
        "x_train, x_test, y_train, y_test = train_test_split(x, y, test_size = 0.3,random_state=42)\n",
        "classes = ['malignant', 'benign ']  # 0 = malignant, 1 = benign"
      ],
      "metadata": {
        "id": "WfPzemucQBYZ"
      },
      "execution_count": 20,
      "outputs": []
    },
    {
      "cell_type": "code",
      "source": [
        "#create the model\n",
        "# SVC: Support Vector Classification\n",
        "svm_model = svm.SVC(kernel=\"linear\")\n"
      ],
      "metadata": {
        "id": "r2SI2JvjQdQO"
      },
      "execution_count": 21,
      "outputs": []
    },
    {
      "cell_type": "code",
      "source": [
        "#train the model\n",
        "svm_model.fit(x_train, y_train)\n",
        "#test the model\n",
        "predicted = svm_model.predict(x_test)"
      ],
      "metadata": {
        "id": "tGDNhg2TQlu8"
      },
      "execution_count": 22,
      "outputs": []
    },
    {
      "cell_type": "code",
      "source": [
        "#check accuracy\n",
        "accuracy = accuracy_score(y_test, predicted) * 100\n",
        "\n",
        "print(\"\\nAccuracy of the model is: \" + str(round(accuracy, 2)) + \"%\\n\")\n"
      ],
      "metadata": {
        "colab": {
          "base_uri": "https://localhost:8080/"
        },
        "id": "0u0W3MaxQ0lG",
        "outputId": "e71d3822-e07f-403c-80bd-ba208b190545"
      },
      "execution_count": 23,
      "outputs": [
        {
          "output_type": "stream",
          "name": "stdout",
          "text": [
            "\n",
            "Accuracy of the model is: 96.49%\n",
            "\n"
          ]
        }
      ]
    },
    {
      "cell_type": "code",
      "source": [
        "#print the results\n",
        "for i in range(len(predicted)):\n",
        "  print(\"Predicted: \", classes[predicted[i]], \"\\tActual: \", classes[y_test[i]])"
      ],
      "metadata": {
        "colab": {
          "base_uri": "https://localhost:8080/"
        },
        "id": "vm1CrVUGRC9i",
        "outputId": "61afb670-3b0f-4712-e398-0c10ca3ba58f"
      },
      "execution_count": 25,
      "outputs": [
        {
          "output_type": "stream",
          "name": "stdout",
          "text": [
            "Predicted:  benign  \tActual:  benign \n",
            "Predicted:  malignant \tActual:  malignant\n",
            "Predicted:  malignant \tActual:  malignant\n",
            "Predicted:  benign  \tActual:  benign \n",
            "Predicted:  benign  \tActual:  benign \n",
            "Predicted:  malignant \tActual:  malignant\n",
            "Predicted:  malignant \tActual:  malignant\n",
            "Predicted:  malignant \tActual:  malignant\n",
            "Predicted:  benign  \tActual:  benign \n",
            "Predicted:  benign  \tActual:  benign \n",
            "Predicted:  benign  \tActual:  benign \n",
            "Predicted:  malignant \tActual:  malignant\n",
            "Predicted:  benign  \tActual:  benign \n",
            "Predicted:  malignant \tActual:  malignant\n",
            "Predicted:  benign  \tActual:  benign \n",
            "Predicted:  malignant \tActual:  malignant\n",
            "Predicted:  benign  \tActual:  benign \n",
            "Predicted:  benign  \tActual:  benign \n",
            "Predicted:  benign  \tActual:  benign \n",
            "Predicted:  malignant \tActual:  malignant\n",
            "Predicted:  benign  \tActual:  malignant\n",
            "Predicted:  benign  \tActual:  benign \n",
            "Predicted:  malignant \tActual:  malignant\n",
            "Predicted:  benign  \tActual:  benign \n",
            "Predicted:  benign  \tActual:  benign \n",
            "Predicted:  benign  \tActual:  benign \n",
            "Predicted:  benign  \tActual:  benign \n",
            "Predicted:  benign  \tActual:  benign \n",
            "Predicted:  benign  \tActual:  benign \n",
            "Predicted:  malignant \tActual:  malignant\n",
            "Predicted:  benign  \tActual:  benign \n",
            "Predicted:  benign  \tActual:  benign \n",
            "Predicted:  benign  \tActual:  benign \n",
            "Predicted:  benign  \tActual:  benign \n",
            "Predicted:  benign  \tActual:  benign \n",
            "Predicted:  benign  \tActual:  benign \n",
            "Predicted:  malignant \tActual:  malignant\n",
            "Predicted:  benign  \tActual:  benign \n",
            "Predicted:  malignant \tActual:  malignant\n",
            "Predicted:  benign  \tActual:  benign \n",
            "Predicted:  benign  \tActual:  benign \n",
            "Predicted:  malignant \tActual:  malignant\n",
            "Predicted:  benign  \tActual:  benign \n",
            "Predicted:  benign  \tActual:  benign \n",
            "Predicted:  benign  \tActual:  benign \n",
            "Predicted:  benign  \tActual:  benign \n",
            "Predicted:  benign  \tActual:  benign \n",
            "Predicted:  benign  \tActual:  benign \n",
            "Predicted:  benign  \tActual:  benign \n",
            "Predicted:  benign  \tActual:  benign \n",
            "Predicted:  malignant \tActual:  malignant\n",
            "Predicted:  malignant \tActual:  malignant\n",
            "Predicted:  benign  \tActual:  benign \n",
            "Predicted:  benign  \tActual:  benign \n",
            "Predicted:  benign  \tActual:  benign \n",
            "Predicted:  benign  \tActual:  benign \n",
            "Predicted:  benign  \tActual:  benign \n",
            "Predicted:  malignant \tActual:  malignant\n",
            "Predicted:  benign  \tActual:  malignant\n",
            "Predicted:  benign  \tActual:  benign \n",
            "Predicted:  benign  \tActual:  benign \n",
            "Predicted:  malignant \tActual:  malignant\n",
            "Predicted:  malignant \tActual:  malignant\n",
            "Predicted:  benign  \tActual:  benign \n",
            "Predicted:  benign  \tActual:  benign \n",
            "Predicted:  benign  \tActual:  benign \n",
            "Predicted:  malignant \tActual:  malignant\n",
            "Predicted:  malignant \tActual:  malignant\n",
            "Predicted:  benign  \tActual:  benign \n",
            "Predicted:  benign  \tActual:  benign \n",
            "Predicted:  malignant \tActual:  malignant\n",
            "Predicted:  malignant \tActual:  malignant\n",
            "Predicted:  benign  \tActual:  benign \n",
            "Predicted:  malignant \tActual:  malignant\n",
            "Predicted:  benign  \tActual:  benign \n",
            "Predicted:  benign  \tActual:  benign \n",
            "Predicted:  benign  \tActual:  benign \n",
            "Predicted:  benign  \tActual:  malignant\n",
            "Predicted:  benign  \tActual:  benign \n",
            "Predicted:  benign  \tActual:  benign \n",
            "Predicted:  malignant \tActual:  malignant\n",
            "Predicted:  benign  \tActual:  benign \n",
            "Predicted:  benign  \tActual:  malignant\n",
            "Predicted:  malignant \tActual:  malignant\n",
            "Predicted:  malignant \tActual:  malignant\n",
            "Predicted:  malignant \tActual:  malignant\n",
            "Predicted:  malignant \tActual:  malignant\n",
            "Predicted:  malignant \tActual:  malignant\n",
            "Predicted:  benign  \tActual:  benign \n",
            "Predicted:  benign  \tActual:  benign \n",
            "Predicted:  benign  \tActual:  benign \n",
            "Predicted:  benign  \tActual:  benign \n",
            "Predicted:  benign  \tActual:  benign \n",
            "Predicted:  benign  \tActual:  benign \n",
            "Predicted:  benign  \tActual:  benign \n",
            "Predicted:  benign  \tActual:  benign \n",
            "Predicted:  malignant \tActual:  malignant\n",
            "Predicted:  malignant \tActual:  malignant\n",
            "Predicted:  benign  \tActual:  benign \n",
            "Predicted:  malignant \tActual:  malignant\n",
            "Predicted:  malignant \tActual:  malignant\n",
            "Predicted:  benign  \tActual:  benign \n",
            "Predicted:  malignant \tActual:  malignant\n",
            "Predicted:  malignant \tActual:  malignant\n",
            "Predicted:  benign  \tActual:  benign \n",
            "Predicted:  benign  \tActual:  benign \n",
            "Predicted:  benign  \tActual:  benign \n",
            "Predicted:  malignant \tActual:  malignant\n",
            "Predicted:  benign  \tActual:  benign \n",
            "Predicted:  benign  \tActual:  benign \n",
            "Predicted:  malignant \tActual:  malignant\n",
            "Predicted:  benign  \tActual:  benign \n",
            "Predicted:  malignant \tActual:  benign \n",
            "Predicted:  malignant \tActual:  malignant\n",
            "Predicted:  benign  \tActual:  benign \n",
            "Predicted:  malignant \tActual:  malignant\n",
            "Predicted:  benign  \tActual:  benign \n",
            "Predicted:  benign  \tActual:  benign \n",
            "Predicted:  benign  \tActual:  benign \n",
            "Predicted:  malignant \tActual:  malignant\n",
            "Predicted:  malignant \tActual:  benign \n",
            "Predicted:  benign  \tActual:  benign \n",
            "Predicted:  benign  \tActual:  benign \n",
            "Predicted:  malignant \tActual:  malignant\n",
            "Predicted:  benign  \tActual:  benign \n",
            "Predicted:  malignant \tActual:  malignant\n",
            "Predicted:  malignant \tActual:  malignant\n",
            "Predicted:  benign  \tActual:  benign \n",
            "Predicted:  benign  \tActual:  benign \n",
            "Predicted:  malignant \tActual:  malignant\n",
            "Predicted:  malignant \tActual:  malignant\n",
            "Predicted:  malignant \tActual:  malignant\n",
            "Predicted:  benign  \tActual:  benign \n",
            "Predicted:  benign  \tActual:  benign \n",
            "Predicted:  benign  \tActual:  benign \n",
            "Predicted:  malignant \tActual:  malignant\n",
            "Predicted:  benign  \tActual:  benign \n",
            "Predicted:  benign  \tActual:  benign \n",
            "Predicted:  benign  \tActual:  benign \n",
            "Predicted:  malignant \tActual:  malignant\n",
            "Predicted:  benign  \tActual:  benign \n",
            "Predicted:  malignant \tActual:  malignant\n",
            "Predicted:  benign  \tActual:  benign \n",
            "Predicted:  benign  \tActual:  benign \n",
            "Predicted:  malignant \tActual:  malignant\n",
            "Predicted:  benign  \tActual:  benign \n",
            "Predicted:  malignant \tActual:  malignant\n",
            "Predicted:  malignant \tActual:  malignant\n",
            "Predicted:  malignant \tActual:  malignant\n",
            "Predicted:  benign  \tActual:  benign \n",
            "Predicted:  malignant \tActual:  malignant\n",
            "Predicted:  benign  \tActual:  benign \n",
            "Predicted:  benign  \tActual:  benign \n",
            "Predicted:  benign  \tActual:  benign \n",
            "Predicted:  benign  \tActual:  benign \n",
            "Predicted:  malignant \tActual:  malignant\n",
            "Predicted:  malignant \tActual:  malignant\n",
            "Predicted:  benign  \tActual:  benign \n",
            "Predicted:  benign  \tActual:  benign \n",
            "Predicted:  benign  \tActual:  benign \n",
            "Predicted:  benign  \tActual:  benign \n",
            "Predicted:  benign  \tActual:  benign \n",
            "Predicted:  benign  \tActual:  benign \n",
            "Predicted:  benign  \tActual:  benign \n",
            "Predicted:  malignant \tActual:  malignant\n",
            "Predicted:  benign  \tActual:  benign \n",
            "Predicted:  benign  \tActual:  benign \n",
            "Predicted:  benign  \tActual:  benign \n",
            "Predicted:  benign  \tActual:  benign \n",
            "Predicted:  malignant \tActual:  malignant\n",
            "Predicted:  benign  \tActual:  benign \n"
          ]
        }
      ]
    }
  ]
}