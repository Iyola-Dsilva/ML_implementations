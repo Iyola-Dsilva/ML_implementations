{
  "nbformat": 4,
  "nbformat_minor": 0,
  "metadata": {
    "colab": {
      "provenance": []
    },
    "kernelspec": {
      "name": "python3",
      "display_name": "Python 3"
    },
    "language_info": {
      "name": "python"
    }
  },
  "cells": [
    {
      "cell_type": "code",
      "execution_count": 12,
      "metadata": {
        "id": "CoQ9Vl4FBJWC"
      },
      "outputs": [],
      "source": [
        "import pandas as pd\n",
        "import numpy as np\n",
        "import matplotlib.pyplot as plt\n",
        "from sklearn import linear_model\n",
        "from sklearn.model_selection import train_test_split\n",
        "\n",
        "\n",
        "# Link to dataset: https://archive.ics.uci.edu/ml/datasets/student+performance"
      ]
    },
    {
      "cell_type": "code",
      "source": [
        "data = pd.read_csv(\"student.csv\") #upload the data first\n",
        "#print(data.head().transpose())\n",
        "\n",
        "data = data[[\"G1\", \"G2\", \"G3\", \"studytime\", \"failures\", \"absences\"]] #data needed for this model\n",
        "print(data.head(3))\n",
        "\n",
        "target = \"G3\" #target variable\n",
        "X = np.array(data.drop([target],axis=1))\n",
        "Y = np.array(data[target])"
      ],
      "metadata": {
        "colab": {
          "base_uri": "https://localhost:8080/"
        },
        "id": "OjJIvQJQBej9",
        "outputId": "0b71f249-9421-4ac1-8479-e19e43ca7219"
      },
      "execution_count": 13,
      "outputs": [
        {
          "output_type": "stream",
          "name": "stdout",
          "text": [
            "   G1  G2  G3  studytime  failures  absences\n",
            "0   5   6   6          2         0         6\n",
            "1   5   5   6          2         0         4\n",
            "2   7   8  10          2         3        10\n"
          ]
        }
      ]
    },
    {
      "cell_type": "code",
      "source": [
        "#split the data\n",
        "x_train, x_test, y_train, y_test = train_test_split(X, Y, test_size = 0.3,random_state=20)"
      ],
      "metadata": {
        "id": "qGD8A6XVEjWR"
      },
      "execution_count": 14,
      "outputs": []
    },
    {
      "cell_type": "code",
      "source": [
        "#build the model\n",
        "linear_regression_model = linear_model.LinearRegression()\n",
        "linear_regression_model.fit(x_train, y_train)"
      ],
      "metadata": {
        "colab": {
          "base_uri": "https://localhost:8080/",
          "height": 74
        },
        "id": "-mrNi_o5FQch",
        "outputId": "67878e18-dd08-44c3-9484-5ecd451055c5"
      },
      "execution_count": 15,
      "outputs": [
        {
          "output_type": "execute_result",
          "data": {
            "text/plain": [
              "LinearRegression()"
            ],
            "text/html": [
              "<style>#sk-container-id-2 {color: black;}#sk-container-id-2 pre{padding: 0;}#sk-container-id-2 div.sk-toggleable {background-color: white;}#sk-container-id-2 label.sk-toggleable__label {cursor: pointer;display: block;width: 100%;margin-bottom: 0;padding: 0.3em;box-sizing: border-box;text-align: center;}#sk-container-id-2 label.sk-toggleable__label-arrow:before {content: \"▸\";float: left;margin-right: 0.25em;color: #696969;}#sk-container-id-2 label.sk-toggleable__label-arrow:hover:before {color: black;}#sk-container-id-2 div.sk-estimator:hover label.sk-toggleable__label-arrow:before {color: black;}#sk-container-id-2 div.sk-toggleable__content {max-height: 0;max-width: 0;overflow: hidden;text-align: left;background-color: #f0f8ff;}#sk-container-id-2 div.sk-toggleable__content pre {margin: 0.2em;color: black;border-radius: 0.25em;background-color: #f0f8ff;}#sk-container-id-2 input.sk-toggleable__control:checked~div.sk-toggleable__content {max-height: 200px;max-width: 100%;overflow: auto;}#sk-container-id-2 input.sk-toggleable__control:checked~label.sk-toggleable__label-arrow:before {content: \"▾\";}#sk-container-id-2 div.sk-estimator input.sk-toggleable__control:checked~label.sk-toggleable__label {background-color: #d4ebff;}#sk-container-id-2 div.sk-label input.sk-toggleable__control:checked~label.sk-toggleable__label {background-color: #d4ebff;}#sk-container-id-2 input.sk-hidden--visually {border: 0;clip: rect(1px 1px 1px 1px);clip: rect(1px, 1px, 1px, 1px);height: 1px;margin: -1px;overflow: hidden;padding: 0;position: absolute;width: 1px;}#sk-container-id-2 div.sk-estimator {font-family: monospace;background-color: #f0f8ff;border: 1px dotted black;border-radius: 0.25em;box-sizing: border-box;margin-bottom: 0.5em;}#sk-container-id-2 div.sk-estimator:hover {background-color: #d4ebff;}#sk-container-id-2 div.sk-parallel-item::after {content: \"\";width: 100%;border-bottom: 1px solid gray;flex-grow: 1;}#sk-container-id-2 div.sk-label:hover label.sk-toggleable__label {background-color: #d4ebff;}#sk-container-id-2 div.sk-serial::before {content: \"\";position: absolute;border-left: 1px solid gray;box-sizing: border-box;top: 0;bottom: 0;left: 50%;z-index: 0;}#sk-container-id-2 div.sk-serial {display: flex;flex-direction: column;align-items: center;background-color: white;padding-right: 0.2em;padding-left: 0.2em;position: relative;}#sk-container-id-2 div.sk-item {position: relative;z-index: 1;}#sk-container-id-2 div.sk-parallel {display: flex;align-items: stretch;justify-content: center;background-color: white;position: relative;}#sk-container-id-2 div.sk-item::before, #sk-container-id-2 div.sk-parallel-item::before {content: \"\";position: absolute;border-left: 1px solid gray;box-sizing: border-box;top: 0;bottom: 0;left: 50%;z-index: -1;}#sk-container-id-2 div.sk-parallel-item {display: flex;flex-direction: column;z-index: 1;position: relative;background-color: white;}#sk-container-id-2 div.sk-parallel-item:first-child::after {align-self: flex-end;width: 50%;}#sk-container-id-2 div.sk-parallel-item:last-child::after {align-self: flex-start;width: 50%;}#sk-container-id-2 div.sk-parallel-item:only-child::after {width: 0;}#sk-container-id-2 div.sk-dashed-wrapped {border: 1px dashed gray;margin: 0 0.4em 0.5em 0.4em;box-sizing: border-box;padding-bottom: 0.4em;background-color: white;}#sk-container-id-2 div.sk-label label {font-family: monospace;font-weight: bold;display: inline-block;line-height: 1.2em;}#sk-container-id-2 div.sk-label-container {text-align: center;}#sk-container-id-2 div.sk-container {/* jupyter's `normalize.less` sets `[hidden] { display: none; }` but bootstrap.min.css set `[hidden] { display: none !important; }` so we also need the `!important` here to be able to override the default hidden behavior on the sphinx rendered scikit-learn.org. See: https://github.com/scikit-learn/scikit-learn/issues/21755 */display: inline-block !important;position: relative;}#sk-container-id-2 div.sk-text-repr-fallback {display: none;}</style><div id=\"sk-container-id-2\" class=\"sk-top-container\"><div class=\"sk-text-repr-fallback\"><pre>LinearRegression()</pre><b>In a Jupyter environment, please rerun this cell to show the HTML representation or trust the notebook. <br />On GitHub, the HTML representation is unable to render, please try loading this page with nbviewer.org.</b></div><div class=\"sk-container\" hidden><div class=\"sk-item\"><div class=\"sk-estimator sk-toggleable\"><input class=\"sk-toggleable__control sk-hidden--visually\" id=\"sk-estimator-id-2\" type=\"checkbox\" checked><label for=\"sk-estimator-id-2\" class=\"sk-toggleable__label sk-toggleable__label-arrow\">LinearRegression</label><div class=\"sk-toggleable__content\"><pre>LinearRegression()</pre></div></div></div></div></div>"
            ]
          },
          "metadata": {},
          "execution_count": 15
        }
      ]
    },
    {
      "cell_type": "code",
      "source": [
        "y_predict = linear_regression_model.predict(x_test)\n",
        "#train the model"
      ],
      "metadata": {
        "id": "fR4V54nDFTy1"
      },
      "execution_count": 16,
      "outputs": []
    },
    {
      "cell_type": "code",
      "source": [
        "#calculate the accuracy\n",
        "accuracy = linear_regression_model.score(x_test, y_test)\n",
        "accuracy = accuracy * 100\n",
        "accuracy = accuracy.round(2)\n",
        "\n",
        "print(f\"\\nAccuracy of the model is: {accuracy}%\\n\")"
      ],
      "metadata": {
        "colab": {
          "base_uri": "https://localhost:8080/"
        },
        "id": "Irzdh1lgFcu1",
        "outputId": "85e56985-2bf5-4661-b21e-e137ed9f7523"
      },
      "execution_count": 17,
      "outputs": [
        {
          "output_type": "stream",
          "name": "stdout",
          "text": [
            "\n",
            "Accuracy of the model is: 86.21%\n",
            "\n"
          ]
        }
      ]
    },
    {
      "cell_type": "code",
      "source": [
        "#the predict values\n",
        "for i in range(len(y_predict)):\n",
        "  print(y_predict[i].round(2), x_test[i], y_test[i])"
      ],
      "metadata": {
        "colab": {
          "base_uri": "https://localhost:8080/"
        },
        "id": "hwXVbfW-Fgiq",
        "outputId": "c1008c29-1118-46c1-cd5b-5a9e265b9149"
      },
      "execution_count": 18,
      "outputs": [
        {
          "output_type": "stream",
          "name": "stdout",
          "text": [
            "7.43 [10  8  2  0  0] 9\n",
            "7.17 [8 8 2 0 2] 8\n",
            "7.36 [8 8 1 1 4] 8\n",
            "12.33 [10  9  2  0 75] 9\n",
            "9.17 [ 8 10  2  0  4] 10\n",
            "9.3 [11  9  2  0 14] 9\n",
            "14.44 [15 14  2  0  8] 14\n",
            "13.79 [12 14  1  0  0] 15\n",
            "9.01 [10 10  4  0  6] 11\n",
            "6.79 [6 8 1 1 0] 8\n",
            "-0.19 [8 0 1 0 0] 0\n",
            "9.43 [10 10  2  0  2] 11\n",
            "12.04 [11 13  4  0  6] 14\n",
            "5.94 [7 7 3 0 6] 7\n",
            "19.07 [19 19  4  0  4] 20\n",
            "18.48 [17 18  1  0  0] 18\n",
            "14.68 [14 15  3  0  4] 16\n",
            "15.86 [17 15  1  0  4] 16\n",
            "9.67 [ 9  9  1  0 22] 9\n",
            "14.79 [14 15  2  0  0] 15\n",
            "12.77 [13 13  3  0  7] 14\n",
            "15.07 [15 15  2  0  2] 16\n",
            "10.64 [12 11  2  0  0] 12\n",
            "8.17 [10  9  3  0  2] 9\n",
            "4.18 [6 5 2 0 6] 6\n",
            "8.17 [10  8  2  0 14] 9\n",
            "19.28 [17 18  2  0 21] 18\n",
            "11.64 [14 12  4  0  6] 13\n",
            "12.21 [12 12  2  0 12] 11\n",
            "16.2 [16 16  2  0  2] 17\n",
            "8.77 [11  9  3  0 10] 10\n",
            "14.79 [14 15  2  0  0] 15\n",
            "9.01 [10 10  3  0  0] 9\n",
            "13.92 [11 14  1  0  6] 14\n",
            "3.32 [6 5 3 1 0] 0\n",
            "18.3 [18 18  3  0  5] 19\n",
            "7.83 [7 9 2 0 0] 8\n",
            "10.22 [10 10  2  0 17] 10\n",
            "14.97 [15 15  2  0  0] 15\n",
            "8.22 [8 9 2 0 4] 10\n",
            "10.82 [13 11  2  0  0] 10\n",
            "7.07 [8 8 2 0 0] 0\n",
            "10.77 [11 11  1  0  0] 10\n",
            "19.93 [18 19  1  0  6] 19\n",
            "13.74 [14 14  3  0  4] 14\n",
            "3.63 [6 5 2 1 0] 0\n",
            "8.06 [10  8  1  0  6] 11\n",
            "8.93 [9 9 1 0 8] 10\n",
            "18.22 [19 18  3  0  0] 19\n",
            "15.42 [14 16  3  0  0] 16\n",
            "8.03 [ 7 10  4  1  2] 10\n",
            "11.15 [ 9  9  2  0 56] 8\n",
            "10.74 [12 11  2  0  2] 12\n",
            "9.4 [11 10  3  0  4] 11\n",
            "10.88 [ 9 12  3  0  3] 11\n",
            "5.2 [7 6 2 0 4] 6\n",
            "10.3 [11 11  3  0  3] 11\n",
            "9.4 [11 10  3  0  4] 10\n",
            "5.31 [7 6 1 0 0] 0\n",
            "12.4 [13 13  3  0  0] 13\n",
            "12.98 [14 13  3  1 12] 13\n",
            "9.19 [11  9  2  0 12] 9\n",
            "10.56 [11 11  2  0  2] 11\n",
            "17.57 [16 17  1  0  4] 18\n",
            "15.73 [16 15  2  0 11] 15\n",
            "11.03 [13 11  2  0  4] 11\n",
            "9.04 [ 9 10  3  0  4] 10\n",
            "9.85 [10 10  1  0  4] 10\n",
            "11.17 [ 8 12  1  0  0] 12\n",
            "12.14 [14 12  2  1  8] 12\n",
            "8.59 [8 9 1 0 5] 9\n",
            "13.13 [13 12  1  0 20] 12\n",
            "12.74 [12 13  2  0  4] 13\n",
            "7.52 [ 7  8  2  0 12] 8\n",
            "14.29 [13 15  3  0  0] 15\n",
            "5.69 [7 7 2 2 4] 9\n",
            "4.91 [ 6  5  1  0 14] 5\n",
            "12.47 [14 12  2  0 10] 11\n",
            "10.66 [11 11  2  0  4] 11\n",
            "7.97 [9 9 2 1 0] 0\n",
            "5.63 [7 7 3 0 0] 8\n",
            "10.56 [11 11  2  0  2] 10\n",
            "13.04 [16 12  1  0  8] 13\n",
            "16.15 [18 16  3  0  0] 16\n",
            "13.97 [13 14  1  0  0] 13\n",
            "12.47 [14 12  1  0  4] 11\n",
            "17.99 [16 18  2  0  0] 18\n",
            "6.12 [ 8  6  2  0 18] 7\n",
            "4.94 [5 6 2 0 6] 6\n",
            "13.89 [16 14  4  0  6] 15\n",
            "8.17 [10  9  3  0  2] 10\n",
            "6.43 [8 7 1 0 0] 6\n",
            "5.51 [ 6  6  2  2 22] 4\n",
            "6.86 [8 8 3 0 2] 10\n",
            "14.79 [14 15  2  0  0] 15\n",
            "3.95 [6 5 1 1 0] 0\n",
            "12.69 [10 13  1  0  4] 14\n",
            "10.09 [ 9 11  2  0  0] 12\n",
            "8.43 [10  9  3  0  7] 9\n",
            "15.26 [14 15  1  0  3] 16\n",
            "16.2 [16 16  2  0  2] 16\n",
            "9.27 [ 8 10  1  0  0] 11\n",
            "10.38 [10 11  2  0  2] 11\n",
            "13.66 [13 14  3  0  6] 14\n",
            "15.18 [15 15  2  0  4] 15\n",
            "2.95 [7 4 1 2 0] 0\n",
            "12.06 [10 12  2  0 16] 11\n",
            "9.17 [ 8 10  2  0  4] 9\n",
            "5.81 [7 7 2 1 2] 7\n",
            "4.82 [8 6 2 2 2] 5\n",
            "17.99 [16 18  2  0  0] 19\n",
            "13.66 [13 14  2  0  0] 15\n",
            "8.17 [10  9  3  0  2] 8\n",
            "16.28 [17 16  2  0  0] 16\n",
            "7.96 [10  8  2  0 10] 8\n",
            "8.83 [9 9 1 0 6] 10\n",
            "20.14 [18 19  1  0 10] 19\n",
            "9.54 [10 10  2  0  4] 10\n",
            "10.66 [11 11  2  0  4] 11\n"
          ]
        }
      ]
    },
    {
      "cell_type": "code",
      "source": [
        "#plot the graph\n",
        "x = \"G2\"\n",
        "y = \"G3\"\n",
        "plt.scatter(data[x], data[y])\n",
        "plt.xlabel(x)\n",
        "plt.ylabel(\"Final Grade\")\n",
        "plt.show()"
      ],
      "metadata": {
        "colab": {
          "base_uri": "https://localhost:8080/",
          "height": 449
        },
        "id": "cgH3MySWFlvn",
        "outputId": "c2df687e-6be0-4043-b368-c79fe186c61d"
      },
      "execution_count": 19,
      "outputs": [
        {
          "output_type": "display_data",
          "data": {
            "text/plain": [
              "<Figure size 640x480 with 1 Axes>"
            ],
            "image/png": "[encoded data removed]"
          },
          "metadata": {}
        }
      ]
    }
  ]
}